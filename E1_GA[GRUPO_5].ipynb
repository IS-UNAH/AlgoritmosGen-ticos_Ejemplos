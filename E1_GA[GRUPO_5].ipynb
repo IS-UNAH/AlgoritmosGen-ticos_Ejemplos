{
  "nbformat": 4,
  "nbformat_minor": 0,
  "metadata": {
    "colab": {
      "name": "E1_GA[GRUPO_5].ipynb",
      "provenance": [],
      "authorship_tag": "ABX9TyNIYQJJIzoyXiLcFwkXmX4F",
      "include_colab_link": true
    },
    "kernelspec": {
      "name": "ir",
      "display_name": "R"
    },
    "language_info": {
      "name": "R"
    }
  },
  "cells": [
    {
      "cell_type": "markdown",
      "metadata": {
        "id": "view-in-github",
        "colab_type": "text"
      },
      "source": [
        "<a href=\"https://colab.research.google.com/github/IS-UNAH/AlgoritmosGeneticos_Ejemplos/blob/main/E1_GA%5BGRUPO_5%5D.ipynb\" target=\"_parent\"><img src=\"https://colab.research.google.com/assets/colab-badge.svg\" alt=\"Open In Colab\"/></a>"
      ]
    },
    {
      "cell_type": "markdown",
      "metadata": {
        "id": "lCY6yQDoqZKr"
      },
      "source": [
        "\n",
        "# EJERCICIO #1 Algoritmo genético\n",
        "---\n",
        "\n",
        "\n",
        "El primer paso del algoritmo genético consiste en crear una población inicial aleatoria de individuos. La siguiente función crea una matriz en la que, cada fila, está formada por una combinación de valores numéricos aleatorios. Además, el valor para cada variable puede estar acotado dentro de un rango. Esta acotación resulta útil para agilizar el proceso de optimización, pero requiere disponer de información que permita acotar el intervalo de valores dentro del cual se encuentra la solución óptima.\n",
        "\n",
        "---\n",
        "\n"
      ]
    },
    {
      "cell_type": "code",
      "metadata": {
        "id": "DPbitwfxizXk"
      },
      "source": [
        "crear_poblacion <- function(n_poblacion, n_variables, limite_inf = NULL,\n",
        "                            limite_sup = NULL, verbose = TRUE) {\n",
        "\n",
        "  # Esta función crea una matriz en la que, cada fila, está formada por una\n",
        "  # combinación de valores numéricos aleatorios. El rango de posibles valores\n",
        "  # para cada variable puede estar acotado.\n",
        "  #\n",
        "  # ARGUMENTOS\n",
        "  # ============================================================================\n",
        "  # n_poblacion: número total de individuos de la población.\n",
        "  # n_variables: longitud de los individuos.\n",
        "  # limite_inf:  vector con el límite inferior de cada variable. Si solo se\n",
        "  #              quiere imponer límites a algunas variables, emplear NA para\n",
        "  #              las que no se quiere acotar.\n",
        "  # limite_sup:  vector con el límite superior de cada variable. Si solo se\n",
        "  #              quiere imponer límites a algunas variables, emplear NA para\n",
        "  #              las que no se quieren acotar.\n",
        "  # verbose:     mostrar información del proceso por pantalla.\n",
        "  #   \n",
        "  # RETORNO\n",
        "  # ============================================================================\n",
        "  # Una matriz de tamaño n_poblacion x n_variables que representa una población.\n",
        "\n",
        "  # COMPROBACIONES\n",
        "  # ----------------------------------------------------------------------------\n",
        "  if (!is.null(limite_inf) & (length(limite_inf) != n_variables)) {\n",
        "    stop(paste(\n",
        "      \"limite_inf debe tener un valor por cada variable.\",\n",
        "      \"Si para alguna variable no se quiere límite, emplear NA.\",\n",
        "      \"Ejemplo: lim_sup = c(10, NA, 10)\"\n",
        "    ))\n",
        "  } else if (!is.null(limite_sup) & length(limite_sup) != n_variables) {\n",
        "    stop(paste(\n",
        "      \"limite_sup debe tener un valor por cada variable.\",\n",
        "      \"Si para alguna variable no se quiere límite, emplear NA.\",\n",
        "      \"Ejemplo: lim_sup = c(10, NA, 10)\"\n",
        "    ))\n",
        "  } else if (is.null(limite_sup) | is.null(limite_inf)) {\n",
        "    warning(paste(\n",
        "      \"Es altamente recomendable indicar los límites dentro de los\",\n",
        "      \"cuales debe buscarse la solución de cada variable.\",\n",
        "      \"Por defecto se emplea [-10^3, 10^3].\"\n",
        "    ))\n",
        "  } else if (any(any(is.na(limite_sup)), any(is.na(limite_inf)))) {\n",
        "    warning(paste(\n",
        "      \"Los límites empleados por defecto cuando no se han definido son:\",\n",
        "      \" [-10^3, 10^3].\"\n",
        "    ))\n",
        "    cat(\"\\n\")\n",
        "  }\n",
        "\n",
        "  # Si no se especifica limite_inf, el valor mínimo que pueden tomar las variables\n",
        "  # es -10^3.\n",
        "  if (is.null(limite_inf)) {\n",
        "    limite_inf <- rep(x = -10^3, times = n_variables)\n",
        "  }\n",
        "\n",
        "  # Si no se especifica limite_sup, el valor máximo que pueden tomar las variables\n",
        "  # es 10^3.\n",
        "  if (is.null(limite_sup)) {\n",
        "    limite_sup <- rep(x = 10^3, times = n_variables)\n",
        "  }\n",
        "\n",
        "  # Si los límites no son nulos, se reemplazan aquellas posiciones NA por el valor\n",
        "  # por defecto -10^3 y 10^3\n",
        "  if (!is.null(limite_inf)) {\n",
        "    limite_inf[is.na(limite_inf)] <- -10^3\n",
        "  }\n",
        "\n",
        "  if (!is.null(limite_sup)) {\n",
        "    limite_sup[is.na(limite_sup)] <- 10^3\n",
        "  }\n",
        "  \n",
        "  # CREAR POBLACIÓN\n",
        "  # ----------------------------------------------------------------------------\n",
        "  # Matriz donde almacenar los individuos generados.\n",
        "  poblacion <- matrix(data = NA, nrow = n_poblacion, ncol = n_variables)\n",
        "\n",
        "  # Bucle para crear cada individuo.\n",
        "  for (i in 1:n_poblacion) {\n",
        "    # Se crea un vector de NA que representa el individuo.\n",
        "    individuo <- rep(NA, times = n_variables)\n",
        "\n",
        "    for (j in 1:n_variables) {\n",
        "      # Para cada posición, se genera un valor aleatorio dentro del rango permitido\n",
        "      # para cada variable.\n",
        "      individuo[j] <- runif(n = 1, min = limite_inf[j], max = limite_sup[j])\n",
        "    }\n",
        "    # Se añade el nuevo individuo a la población.\n",
        "    poblacion[i, ] <- individuo\n",
        "  }\n",
        "\n",
        "  # INFORMACIÓN ALMACENADA EN LOS ATRIBUTOS\n",
        "  # ----------------------------------------------------------------------------\n",
        "  attr(poblacion, 'fecha_creacion')    <- Sys.time()\n",
        "  attr(poblacion, 'numero_individuos') <- n_poblacion\n",
        "  attr(poblacion, \"class\") <- c(\"matrix\", \"poblacion\")\n",
        "  \n",
        "  if (verbose) {\n",
        "    cat(\"Población inicial creada\", \"\\n\")\n",
        "    cat(\"------------------------\", \"\\n\")\n",
        "    cat(\"Fecha creación:\", as.character(Sys.time()), \"\\n\")\n",
        "    cat(\"Número de individuos =\", n_poblacion, \"\\n\")\n",
        "    cat(\"Límites inferiores de cada variable =\", paste(limite_inf, collapse = \", \"), \"\\n\")\n",
        "    cat(\"Límites superiores de cada variable =\", paste(limite_sup, collapse = \", \"), \"\\n\")\n",
        "    cat(\"\\n\")\n",
        "  }\n",
        "  \n",
        "  return(poblacion)\n",
        "}"
      ],
      "execution_count": 1,
      "outputs": []
    },
    {
      "cell_type": "markdown",
      "metadata": {
        "id": "gM3gV42uoaNK"
      },
      "source": [
        "## Definicion del E1\n",
        "### Se crea una población de 10 individuos de longitud 2, con los valores de la primera variable acotados entre [-100, +100] y la segunda con únicamente el límite inferior [-20, NA].\n",
        "\n"
      ]
    },
    {
      "cell_type": "code",
      "metadata": {
        "colab": {
          "base_uri": "https://localhost:8080/"
        },
        "id": "26rO_5IkgGEM",
        "outputId": "0ca2873f-447e-4987-e916-c1a4c846a159"
      },
      "source": [
        "poblacion <- crear_poblacion(\n",
        "  n_poblacion = 10,\n",
        "  n_variables = 2,\n",
        "  limite_inf  = c(-100, -20),\n",
        "  limite_sup  = c(+100, NA),\n",
        "  verbose = TRUE\n",
        ")"
      ],
      "execution_count": 2,
      "outputs": [
        {
          "output_type": "stream",
          "text": [
            "Warning message in crear_poblacion(n_poblacion = 10, n_variables = 2, limite_inf = c(-100, :\n",
            "“Los límites empleados por defecto cuando no se han definido son:  [-10^3, 10^3].”\n"
          ],
          "name": "stderr"
        },
        {
          "output_type": "stream",
          "text": [
            "\n",
            "Población inicial creada \n",
            "------------------------ \n",
            "Fecha creación: 2021-07-25 21:50:45 \n",
            "Número de individuos = 10 \n",
            "Límites inferiores de cada variable = -100, -20 \n",
            "Límites superiores de cada variable = 100, 1000 \n",
            "\n"
          ],
          "name": "stdout"
        }
      ]
    },
    {
      "cell_type": "code",
      "metadata": {
        "colab": {
          "base_uri": "https://localhost:8080/",
          "height": 361
        },
        "id": "fCYUvsEGhwRJ",
        "outputId": "1ab7d378-af48-43c2-86dc-d8dc3581e545"
      },
      "source": [
        "poblacion"
      ],
      "execution_count": 3,
      "outputs": [
        {
          "output_type": "display_data",
          "data": {
            "text/plain": [
              "      [,1]       [,2]     \n",
              " [1,] -45.057110 836.61742\n",
              " [2,]  51.301826 202.09222\n",
              " [3,]  74.827585  30.97196\n",
              " [4,]  71.247345 160.82473\n",
              " [5,] -14.836202  10.39735\n",
              " [6,]  81.357664 184.29205\n",
              " [7,]   3.766152 859.76797\n",
              " [8,]   2.575809 992.33491\n",
              " [9,] -51.017265 149.04351\n",
              "[10,] -60.696400 634.03701"
            ],
            "text/latex": "A matrix: 10 × 2 of type dbl\n\\begin{tabular}{ll}\n\t -45.057110 & 836.61742\\\\\n\t  51.301826 & 202.09222\\\\\n\t  74.827585 &  30.97196\\\\\n\t  71.247345 & 160.82473\\\\\n\t -14.836202 &  10.39735\\\\\n\t  81.357664 & 184.29205\\\\\n\t   3.766152 & 859.76797\\\\\n\t   2.575809 & 992.33491\\\\\n\t -51.017265 & 149.04351\\\\\n\t -60.696400 & 634.03701\\\\\n\\end{tabular}\n",
            "text/markdown": "\nA matrix: 10 × 2 of type dbl\n\n| -45.057110 | 836.61742 |\n|  51.301826 | 202.09222 |\n|  74.827585 |  30.97196 |\n|  71.247345 | 160.82473 |\n| -14.836202 |  10.39735 |\n|  81.357664 | 184.29205 |\n|   3.766152 | 859.76797 |\n|   2.575809 | 992.33491 |\n| -51.017265 | 149.04351 |\n| -60.696400 | 634.03701 |\n\n",
            "text/html": [
              "<table class=\"dataframe\">\n",
              "<caption>A matrix: 10 × 2 of type dbl</caption>\n",
              "<tbody>\n",
              "\t<tr><td>-45.057110</td><td>836.61742</td></tr>\n",
              "\t<tr><td> 51.301826</td><td>202.09222</td></tr>\n",
              "\t<tr><td> 74.827585</td><td> 30.97196</td></tr>\n",
              "\t<tr><td> 71.247345</td><td>160.82473</td></tr>\n",
              "\t<tr><td>-14.836202</td><td> 10.39735</td></tr>\n",
              "\t<tr><td> 81.357664</td><td>184.29205</td></tr>\n",
              "\t<tr><td>  3.766152</td><td>859.76797</td></tr>\n",
              "\t<tr><td>  2.575809</td><td>992.33491</td></tr>\n",
              "\t<tr><td>-51.017265</td><td>149.04351</td></tr>\n",
              "\t<tr><td>-60.696400</td><td>634.03701</td></tr>\n",
              "</tbody>\n",
              "</table>\n"
            ]
          },
          "metadata": {
            "tags": []
          }
        }
      ]
    },
    {
      "cell_type": "markdown",
      "metadata": {
        "id": "zo6Kj-lNotrX"
      },
      "source": [
        "### Cada individuo de la población debe ser evaluado para cuantificar cómo de bueno es como solución al problema, a esta cuantificación se le llama (fitness). Dependiendo de si se trata de un problema de maximización o minimizació"
      ]
    },
    {
      "cell_type": "code",
      "metadata": {
        "id": "ZfN2LEqtiV0C"
      },
      "source": [
        "calcular_fitness_individuo <- function(individuo, funcion_objetivo, optimizacion,\n",
        "                                       verbose = TRUE, ...) {\n",
        "  # Esta función devuelve el fitness de cada individuo de una población.\n",
        "  #\n",
        "  # ARGUMENTOS\n",
        "  # ============================================================================\n",
        "  # individuo:        vector con los valores de cada variable. El orden de los\n",
        "  #                   valores debe coincidir con el de los argumentos de la\n",
        "  #                   función.\n",
        "  # funcion_objetivo: nombre de la función que se desea optimizar. Debe de haber\n",
        "  #                   sido definida previamente.\n",
        "  # optimizacion:    \"maximizar\" o \"minimizar\". Dependiendo de esto, la relación\n",
        "  #                   del fitness es directamente o indirectamente proporcional\n",
        "  #                   al valor de la función.\n",
        "  # verbose:          mostrar información del proceso por pantalla.\n",
        "  #\n",
        "  # RETORNO\n",
        "  # ============================================================================\n",
        "  # fitness del individuo.\n",
        "\n",
        "  # COMPROBACIONES INICIALES\n",
        "  # ----------------------------------------------------------------------------\n",
        "  if (length(individuo) != length(names(formals(funcion_objetivo)))) {\n",
        "    stop(paste(\"Los individuos deben tener tantos valores como argumentos tiene\",\n",
        "               \"la función objetivo.\"))\n",
        "  }\n",
        "  \n",
        "  # CÁLCULO FITNESS\n",
        "  # ----------------------------------------------------------------------------\n",
        "  if (optimizacion == \"maximizar\") {\n",
        "    fitness <- do.call(funcion_objetivo, args = as.list(individuo))\n",
        "  } else if (optimizacion == \"minimizar\") {\n",
        "    fitness <- -(do.call(funcion_objetivo, args = as.list(individuo)))\n",
        "  } else {\n",
        "    stop(\"El argumento optimización debe ser maximizar o minimizar.\")\n",
        "  }\n",
        "\n",
        "  # INFORMACIÓN DEL PROCESO (VERBOSE)\n",
        "  # ----------------------------------------------------------------------------\n",
        "  if (verbose) {\n",
        "    cat(\"El individuo ha sido evaluado\", \"\\n\")\n",
        "    cat(\"-----------------------------\", \"\\n\")\n",
        "    cat(\"Optimización =\", optimizacion, \"\\n\")\n",
        "    cat(\"Individuo    =\", paste(individuo, collapse = \" \"), \"\\n\")\n",
        "    cat(\"Fitness      =\", fitness, \"\\n\")\n",
        "    cat(\"\\n\")\n",
        "  }\n",
        "\n",
        "  return(fitness)\n",
        "}"
      ],
      "execution_count": 4,
      "outputs": []
    },
    {
      "cell_type": "markdown",
      "metadata": {
        "id": "D7lAY0xTo2ub"
      },
      "source": [
        "### Se calcula el fitness del individuo (x1=10,x2=10) para los casos de maximización y minimización de la función f(x1,x2)=x1+x2."
      ]
    },
    {
      "cell_type": "code",
      "metadata": {
        "colab": {
          "base_uri": "https://localhost:8080/"
        },
        "id": "zJUhun0rkZVC",
        "outputId": "bd10b0c2-e8d7-4635-e15f-9ccfb6065bb8"
      },
      "source": [
        "# Función objetivo a optimizar.\n",
        "funcion <- function(x1, x2) {\n",
        "  return(x1 + x2)\n",
        "}\n",
        "\n",
        "fitness <- calcular_fitness_individuo(\n",
        "            individuo        = c(10, 10),\n",
        "            funcion_objetivo = funcion,\n",
        "            optimizacion     = \"maximizar\",\n",
        "            verbose          = TRUE\n",
        "          )"
      ],
      "execution_count": 5,
      "outputs": [
        {
          "output_type": "stream",
          "text": [
            "El individuo ha sido evaluado \n",
            "----------------------------- \n",
            "Optimización = maximizar \n",
            "Individuo    = 10 10 \n",
            "Fitness      = 20 \n",
            "\n"
          ],
          "name": "stdout"
        }
      ]
    },
    {
      "cell_type": "markdown",
      "metadata": {
        "id": "izVuudSYpHBm"
      },
      "source": [
        "### Esta función recibe como argumentos una población de individuos, una función objetivo y el tipo de optimización, y devuelve el fitness de todos los individuos.\n",
        "\n"
      ]
    },
    {
      "cell_type": "code",
      "metadata": {
        "colab": {
          "base_uri": "https://localhost:8080/"
        },
        "id": "cEcmQxL3kl8Y",
        "outputId": "f52baf4e-e1cb-4be5-c7e2-651d9a247302"
      },
      "source": [
        "fitness <- calcular_fitness_individuo(\n",
        "            individuo        = c(10, 10),\n",
        "            funcion_objetivo = funcion,\n",
        "            optimizacion     = \"minimizar\",\n",
        "            verbose          = TRUE\n",
        "          )"
      ],
      "execution_count": 6,
      "outputs": [
        {
          "output_type": "stream",
          "text": [
            "El individuo ha sido evaluado \n",
            "----------------------------- \n",
            "Optimización = minimizar \n",
            "Individuo    = 10 10 \n",
            "Fitness      = -20 \n",
            "\n"
          ],
          "name": "stdout"
        }
      ]
    },
    {
      "cell_type": "markdown",
      "metadata": {
        "id": "aAjQ8mibpQG6"
      },
      "source": [
        "### Esta función recibe como argumentos una población de individuos, una función objetivo y el tipo de optimización, y devuelve el fitness de todos los individuos."
      ]
    },
    {
      "cell_type": "code",
      "metadata": {
        "id": "9NJs0KQwkv-n"
      },
      "source": [
        "calcular_fitness_poblacion <- function(poblacion, funcion_objetivo, optimizacion,\n",
        "                                       verbose = TRUE, ...) {\n",
        "  # Esta función devuelve el fitness de cada individuo de una población.\n",
        "  #\n",
        "  # ARGUMENTOS\n",
        "  # ============================================================================\n",
        "  # poblacion:        matriz que representa la población de individuos.\n",
        "  # funcion_objetivo: nombre de la función que se desea optimizar. Debe de haber\n",
        "  #                   sido definida previamente.\n",
        "  # optimizacion:     \"maximizar\" o \"minimizar\". Dependiendo de esto, la relación\n",
        "  #                   del fitness es directamente o indirectamente proporcional\n",
        "  #                   al valor de la función.\n",
        "  # verbose:          mostrar información del proceso por pantalla.\n",
        "  #\n",
        "  # RETORNO\n",
        "  # ============================================================================\n",
        "  # Vector con el fitness de todos los individuos de la población. El orden de\n",
        "  # los valores se corresponde con el orden de las filas de la matriz población.\n",
        "\n",
        "\n",
        "  # CÁLCULO DEL FITNESS DE CADA INDIVIDUO DE LA POBLACIÓN\n",
        "  # ----------------------------------------------------------------------------\n",
        "  # Vector donde almacenar el fitness de cada individuo.\n",
        "  fitness_poblacion <- rep(NA, times = nrow(poblacion))\n",
        "\n",
        "  for (i in 1:nrow(poblacion)) {\n",
        "    individuo <- poblacion[i, ]\n",
        "\n",
        "    fitness_individuo <- calcular_fitness_individuo(\n",
        "                          individuo        = individuo,\n",
        "                          funcion_objetivo = funcion_objetivo,\n",
        "                          optimizacion     = optimizacion,\n",
        "                          verbose          = verbose\n",
        "                        )\n",
        "    fitness_poblacion[i] <- fitness_individuo\n",
        "  }\n",
        "  \n",
        "  # MEJOR INDIVIDUO DE LA POBLACIÓN\n",
        "  # ----------------------------------------------------------------------------\n",
        "  # Se identifica el mejor individuo de toda la población, el de mayor\n",
        "  # fitness.\n",
        "  indice_mejor_individuo <- which.max(fitness_poblacion)\n",
        "  \n",
        "  # Se identifica el valor de la función objetivo para el mejor individuo.\n",
        "  if (optimizacion == \"maximizar\") {\n",
        "    valor_funcion <- fitness_poblacion[indice_mejor_individuo]\n",
        "  } else {\n",
        "    valor_funcion <- -1*fitness_poblacion[indice_mejor_individuo]\n",
        "  }\n",
        "  \n",
        "  # INFORMACIÓN DEL PROCESO (VERBOSE)\n",
        "  # ----------------------------------------------------------------------------\n",
        "  if (verbose) {\n",
        "    cat(\"------------------\", \"\\n\")\n",
        "    cat(\"Población evaluada\", \"\\n\")\n",
        "    cat(\"------------------\", \"\\n\")\n",
        "    cat(\"Optimización              =\", optimizacion, \"\\n\")\n",
        "    cat(\"Mejor fitness encontrado  =\", fitness_poblacion[indice_mejor_individuo], \"\\n\")\n",
        "    cat(\"Mejor solución encontrada =\",\n",
        "        paste(poblacion[indice_mejor_individuo,], collapse = \" \"), \"\\n\")\n",
        "    cat(\"Valor función objetivo    =\", valor_funcion, \"\\n\")\n",
        "    cat(\"\\n\")\n",
        "  }\n",
        "  \n",
        "  return(fitness_poblacion)\n",
        "}"
      ],
      "execution_count": 7,
      "outputs": []
    },
    {
      "cell_type": "code",
      "metadata": {
        "colab": {
          "base_uri": "https://localhost:8080/"
        },
        "id": "tv6Bpherk1IX",
        "outputId": "e68bd08f-742d-4ae8-8833-015eb665d56f"
      },
      "source": [
        "# Función objetivo a optimizar.\n",
        "funcion <- function(x1, x2) {\n",
        "  return(x1 + x2)\n",
        "}\n",
        "\n",
        "# Población simulada.\n",
        "poblacion <- crear_poblacion(\n",
        "  n_poblacion = 5,\n",
        "  n_variables = 2,\n",
        "  limite_inf  = c(-10, -10),\n",
        "  limite_sup  = c(+10, +10),\n",
        "  verbose     = TRUE\n",
        ")"
      ],
      "execution_count": 8,
      "outputs": [
        {
          "output_type": "stream",
          "text": [
            "Población inicial creada \n",
            "------------------------ \n",
            "Fecha creación: 2021-07-25 21:50:45 \n",
            "Número de individuos = 5 \n",
            "Límites inferiores de cada variable = -10, -10 \n",
            "Límites superiores de cada variable = 10, 10 \n",
            "\n"
          ],
          "name": "stdout"
        }
      ]
    },
    {
      "cell_type": "code",
      "metadata": {
        "colab": {
          "base_uri": "https://localhost:8080/"
        },
        "id": "tTSjid03k6OR",
        "outputId": "9d503e04-8274-4196-b08d-76f87b9db1bb"
      },
      "source": [
        "# Cálculo del fitness de todos los individuos.\n",
        "fitness_poblacion <- calcular_fitness_poblacion(\n",
        "                      poblacion        = poblacion,\n",
        "                      funcion_objetivo = funcion,\n",
        "                      optimizacion     = \"minimizar\",\n",
        "                      verbose          = TRUE\n",
        "                    )"
      ],
      "execution_count": 9,
      "outputs": [
        {
          "output_type": "stream",
          "text": [
            "El individuo ha sido evaluado \n",
            "----------------------------- \n",
            "Optimización = minimizar \n",
            "Individuo    = 4.76265345700085 3.48101402167231 \n",
            "Fitness      = -8.243667 \n",
            "\n",
            "El individuo ha sido evaluado \n",
            "----------------------------- \n",
            "Optimización = minimizar \n",
            "Individuo    = -6.7645374359563 9.15466427337378 \n",
            "Fitness      = -2.390127 \n",
            "\n",
            "El individuo ha sido evaluado \n",
            "----------------------------- \n",
            "Optimización = minimizar \n",
            "Individuo    = -6.1959640448913 1.92809992935508 \n",
            "Fitness      = 4.267864 \n",
            "\n",
            "El individuo ha sido evaluado \n",
            "----------------------------- \n",
            "Optimización = minimizar \n",
            "Individuo    = 4.31608249899 0.32648095395416 \n",
            "Fitness      = -4.642563 \n",
            "\n",
            "El individuo ha sido evaluado \n",
            "----------------------------- \n",
            "Optimización = minimizar \n",
            "Individuo    = 8.12970536760986 1.56447052489966 \n",
            "Fitness      = -9.694176 \n",
            "\n",
            "------------------ \n",
            "Población evaluada \n",
            "------------------ \n",
            "Optimización              = minimizar \n",
            "Mejor fitness encontrado  = 4.267864 \n",
            "Mejor solución encontrada = -6.1959640448913 1.92809992935508 \n",
            "Valor función objetivo    = -4.267864 \n",
            "\n"
          ],
          "name": "stdout"
        }
      ]
    },
    {
      "cell_type": "code",
      "metadata": {
        "colab": {
          "base_uri": "https://localhost:8080/",
          "height": 34
        },
        "id": "zrI8ghLklbxh",
        "outputId": "d3d7db2a-cd32-44a5-80b4-38303c83d4db"
      },
      "source": [
        "fitness_poblacion"
      ],
      "execution_count": 10,
      "outputs": [
        {
          "output_type": "display_data",
          "data": {
            "text/plain": [
              "[1] -8.243667 -2.390127  4.267864 -4.642563 -9.694176"
            ],
            "text/latex": "\\begin{enumerate*}\n\\item -8.24366747867316\n\\item -2.39012683741748\n\\item 4.26786411553621\n\\item -4.64256345294416\n\\item -9.69417589250952\n\\end{enumerate*}\n",
            "text/markdown": "1. -8.24366747867316\n2. -2.39012683741748\n3. 4.26786411553621\n4. -4.64256345294416\n5. -9.69417589250952\n\n\n",
            "text/html": [
              "<style>\n",
              ".list-inline {list-style: none; margin:0; padding: 0}\n",
              ".list-inline>li {display: inline-block}\n",
              ".list-inline>li:not(:last-child)::after {content: \"\\00b7\"; padding: 0 .5ex}\n",
              "</style>\n",
              "<ol class=list-inline><li>-8.24366747867316</li><li>-2.39012683741748</li><li>4.26786411553621</li><li>-4.64256345294416</li><li>-9.69417589250952</li></ol>\n"
            ]
          },
          "metadata": {
            "tags": []
          }
        }
      ]
    }
  ]
}